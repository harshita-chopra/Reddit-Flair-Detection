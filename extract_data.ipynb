{
 "cells": [
  {
   "cell_type": "markdown",
   "metadata": {},
   "source": [
    "# Reddit Data Collection"
   ]
  },
  {
   "cell_type": "code",
   "execution_count": 1,
   "metadata": {
    "colab": {},
    "colab_type": "code",
    "id": "PFCbBG7gaYtQ"
   },
   "outputs": [],
   "source": [
    "# Importing necessary libraries\n",
    "\n",
    "import praw\n",
    "import pandas as pd\n",
    "import numpy as np\n",
    "import datetime as dt\n",
    "from tqdm import tqdm\n",
    "import tldextract\n",
    "import matplotlib.pyplot as plt"
   ]
  },
  {
   "cell_type": "markdown",
   "metadata": {},
   "source": [
    "### Extracting r/india data using praw"
   ]
  },
  {
   "cell_type": "code",
   "execution_count": 2,
   "metadata": {
    "colab": {},
    "colab_type": "code",
    "id": "uhI4rJAAaoZf"
   },
   "outputs": [],
   "source": [
    "reddit = praw.Reddit(client_id='', client_secret='', user_agent='')\n",
    "subreddit = reddit.subreddit('india')"
   ]
  },
  {
   "cell_type": "markdown",
   "metadata": {},
   "source": [
    "*There are a huge number of custom flairs in r/india. In order to decide which ones to consider and which ones to ignore, I am going to consider only the ones which are **officially mentioned** on the r/india page. Hence these **10 flairs** will be used further in this project for all purposes.*"
   ]
  },
  {
   "cell_type": "code",
   "execution_count": 3,
   "metadata": {
    "colab": {},
    "colab_type": "code",
    "id": "Djmz-AFibOpd"
   },
   "outputs": [],
   "source": [
    "flairs = ['AskIndia', 'Business/Finance', 'Food', 'Non-Political', 'Photography', 'Policy/Economy', 'Politics', 'Scheduled',\n",
    "          'Science/Technology', 'Sports']\n",
    "\n",
    "# Function to convert timestamp to datetime\n",
    "def get_date(created):\n",
    "    return dt.datetime.fromtimestamp(created)"
   ]
  },
  {
   "cell_type": "markdown",
   "metadata": {},
   "source": [
    "*For **exploring the distribution of data over flairs**, some posts are extracted first and analysed. This would give an idea about whether randomly extracting the data would be helpful in training a classifier over it.*"
   ]
  },
  {
   "cell_type": "code",
   "execution_count": 4,
   "metadata": {
    "colab": {
     "base_uri": "https://localhost:8080/",
     "height": 101
    },
    "colab_type": "code",
    "id": "-LMCIRdgzNvM",
    "outputId": "bd4f9ebb-d385-482a-b1f7-e0a85cd58162"
   },
   "outputs": [
    {
     "data": {
      "text/html": [
       "<div>\n",
       "<style scoped>\n",
       "    .dataframe tbody tr th:only-of-type {\n",
       "        vertical-align: middle;\n",
       "    }\n",
       "\n",
       "    .dataframe tbody tr th {\n",
       "        vertical-align: top;\n",
       "    }\n",
       "\n",
       "    .dataframe thead th {\n",
       "        text-align: right;\n",
       "    }\n",
       "</style>\n",
       "<table border=\"1\" class=\"dataframe\">\n",
       "  <thead>\n",
       "    <tr style=\"text-align: right;\">\n",
       "      <th></th>\n",
       "      <th>id</th>\n",
       "      <th>title</th>\n",
       "      <th>flair</th>\n",
       "    </tr>\n",
       "  </thead>\n",
       "  <tbody>\n",
       "    <tr>\n",
       "      <td>841</td>\n",
       "      <td>ebim5v</td>\n",
       "      <td>Mumbai protest against government's discrimina...</td>\n",
       "      <td>Politics</td>\n",
       "    </tr>\n",
       "    <tr>\n",
       "      <td>842</td>\n",
       "      <td>e1yy9u</td>\n",
       "      <td>Did Sharad Pawar, NCP, Congress and Shiv Sena ...</td>\n",
       "      <td>Politics</td>\n",
       "    </tr>\n",
       "    <tr>\n",
       "      <td>843</td>\n",
       "      <td>cpomk0</td>\n",
       "      <td>My dad is the Captain onboard Stena Impero, an...</td>\n",
       "      <td>Politics</td>\n",
       "    </tr>\n",
       "    <tr>\n",
       "      <td>844</td>\n",
       "      <td>d5gao9</td>\n",
       "      <td>Modi euphoria gone, foreign investors dump rec...</td>\n",
       "      <td>Politics</td>\n",
       "    </tr>\n",
       "    <tr>\n",
       "      <td>845</td>\n",
       "      <td>ecjv68</td>\n",
       "      <td>Remember this, India, that the people of Hong ...</td>\n",
       "      <td>Politics</td>\n",
       "    </tr>\n",
       "  </tbody>\n",
       "</table>\n",
       "</div>"
      ],
      "text/plain": [
       "         id                                              title     flair\n",
       "841  ebim5v  Mumbai protest against government's discrimina...  Politics\n",
       "842  e1yy9u  Did Sharad Pawar, NCP, Congress and Shiv Sena ...  Politics\n",
       "843  cpomk0  My dad is the Captain onboard Stena Impero, an...  Politics\n",
       "844  d5gao9  Modi euphoria gone, foreign investors dump rec...  Politics\n",
       "845  ecjv68  Remember this, India, that the people of Hong ...  Politics"
      ]
     },
     "execution_count": 4,
     "metadata": {},
     "output_type": "execute_result"
    }
   ],
   "source": [
    "topics_dict = {\"id\":[], \"title\":[], \"flair\":[]}\n",
    "\n",
    "for submission in subreddit.top('year',limit = None):\n",
    "    topics_dict[\"id\"].append(submission.id)\n",
    "    topics_dict[\"title\"].append(submission.title)\n",
    "    topics_dict[\"flair\"].append(submission.link_flair_text)\n",
    "\n",
    "data = pd.DataFrame(topics_dict)\n",
    "data = data.loc[data.flair.isin(flairs)]\n",
    "data.reset_index(drop=True, inplace=True)\n",
    "data.tail()"
   ]
  },
  {
   "cell_type": "markdown",
   "metadata": {},
   "source": [
    "### Analyzing the distribution of flair-wise data\n",
    "*The top posts extracted from the r/india subreddit have a very **unequally distributed** pattern in terms of flair. The bar plot depicts the percentage of posts belonging to our 10 different flairs.*"
   ]
  },
  {
   "cell_type": "code",
   "execution_count": 6,
   "metadata": {
    "colab": {},
    "colab_type": "code",
    "id": "V0eUvW2ybQuh"
   },
   "outputs": [
    {
     "data": {
      "image/png": "[encoded data removed]",
      "text/plain": [
       "<Figure size 1080x504 with 1 Axes>"
      ]
     },
     "metadata": {
      "needs_background": "light"
     },
     "output_type": "display_data"
    }
   ],
   "source": [
    "plot = data['flair'].value_counts().plot(kind='bar', figsize=(15,7), color=\"coral\", fontsize=14);\n",
    "plot.set_title(\"\\n Analyzing the variety of flairs in top posts over a year \\n\", fontsize=16)\n",
    "plot.set_ylabel(\"Number of posts\", fontsize=14);\n",
    "\n",
    "# Find the values and their sum\n",
    "totals = []\n",
    "for i in plot.patches:\n",
    "    totals.append(i.get_height())\n",
    "total = np.sum(totals)\n",
    "\n",
    "# Set individual bar lables using above list\n",
    "for i in plot.patches:\n",
    "    # get_x pulls left or right; get_height pushes up or down\n",
    "    plot.text(i.get_x()-0.05, i.get_height()+ 2, str(round((i.get_height()/total)*100, 2))+'%', fontsize=14)"
   ]
  },
  {
   "cell_type": "markdown",
   "metadata": {},
   "source": [
    "## Extracting relevant submissions\n",
    "Since the submissions extracted in the above cell shows that distribution with respect to flairs is not uniform, this might create problem when training the classifier model. In order to get even distribution, **around 250** relevant submissions from each flair are extracted to create the required data for traning and analysis purpose. Sorting by 'relevance' is default in the search method, and it collects the posts which are most related to the query."
   ]
  },
  {
   "cell_type": "code",
   "execution_count": 7,
   "metadata": {
    "scrolled": true
   },
   "outputs": [
    {
     "name": "stderr",
     "output_type": "stream",
     "text": [
      " 97%|█████████████████████████████████████████████████████████████████████████▋  | 2423/2500 [1:04:40<02:03,  1.60s/it]\n"
     ]
    }
   ],
   "source": [
    "topics_dict = {\"id\":[], \"flair\":[], \"title\":[], \"body\":[], \"comments\":[], \"score\":[], \"author\":[], \"url\":[], \"domain\":[], \"comms_num\": [], \"created\":[]}\n",
    "\n",
    "# Using tqdm progress bar to track iterations\n",
    "with tqdm(total=len(flairs)*250) as pbar:\n",
    "    for flair in flairs:\n",
    "        get_subreddits = subreddit.search(query = f\"flair:{flair}\", time_filter='year', limit=300)\n",
    "        for submission in get_subreddits:    \n",
    "            topics_dict[\"flair\"].append(submission.link_flair_text)\n",
    "            topics_dict[\"title\"].append(submission.title)\n",
    "            topics_dict[\"score\"].append(submission.score)\n",
    "            topics_dict[\"id\"].append(submission.id)\n",
    "            topics_dict[\"url\"].append(submission.url)\n",
    "            topics_dict[\"comms_num\"].append(submission.num_comments)\n",
    "            topics_dict[\"created\"].append(submission.created)\n",
    "            topics_dict[\"body\"].append(submission.selftext)\n",
    "            topics_dict[\"author\"].append(submission.author)\n",
    "            \n",
    "            \n",
    "            # Using top-level-domain extraction methods to find domain of URLs\n",
    "            tld = tldextract.extract(submission.url)\n",
    "            d = tld.domain + \".\" + tld.suffix\n",
    "            \n",
    "            # Conditions for some exceptions\n",
    "            if submission.is_self == True:\n",
    "                d = \"self-post\"\n",
    "            if d == \"youtu.be\":\n",
    "                d = \"youtube.com\"\n",
    "            if d == \"redd.it\":\n",
    "                d = \"reddit.com\"\n",
    "                \n",
    "            topics_dict[\"domain\"].append(d)\n",
    "    \n",
    "            submission.comments.replace_more(limit=10)\n",
    "            comment = ' '\n",
    "            for top_level_comment in submission.comments:\n",
    "                comment += ' ' + top_level_comment.body\n",
    "            topics_dict[\"comments\"].append(comment)\n",
    "            pbar.update(1)"
   ]
  },
  {
   "cell_type": "markdown",
   "metadata": {},
   "source": [
    "### Creating a dataframe and saving in csv file"
   ]
  },
  {
   "cell_type": "code",
   "execution_count": 8,
   "metadata": {
    "scrolled": false
   },
   "outputs": [
    {
     "data": {
      "text/html": [
       "<div>\n",
       "<style scoped>\n",
       "    .dataframe tbody tr th:only-of-type {\n",
       "        vertical-align: middle;\n",
       "    }\n",
       "\n",
       "    .dataframe tbody tr th {\n",
       "        vertical-align: top;\n",
       "    }\n",
       "\n",
       "    .dataframe thead th {\n",
       "        text-align: right;\n",
       "    }\n",
       "</style>\n",
       "<table border=\"1\" class=\"dataframe\">\n",
       "  <thead>\n",
       "    <tr style=\"text-align: right;\">\n",
       "      <th></th>\n",
       "      <th>id</th>\n",
       "      <th>flair</th>\n",
       "      <th>title</th>\n",
       "      <th>body</th>\n",
       "      <th>comments</th>\n",
       "      <th>score</th>\n",
       "      <th>author</th>\n",
       "      <th>url</th>\n",
       "      <th>domain</th>\n",
       "      <th>comms_num</th>\n",
       "      <th>timestamp</th>\n",
       "    </tr>\n",
       "  </thead>\n",
       "  <tbody>\n",
       "    <tr>\n",
       "      <td>2418</td>\n",
       "      <td>fvxp4n</td>\n",
       "      <td>Photography</td>\n",
       "      <td>Lone House at Loktak Lake, Manipur [OC] [6000x...</td>\n",
       "      <td></td>\n",
       "      <td>Location - Loktak Lake, Manipur\\n\\nDevice us...</td>\n",
       "      <td>18</td>\n",
       "      <td>kingof-potatos</td>\n",
       "      <td>https://i.redd.it/trpvocirv6r41.jpg</td>\n",
       "      <td>reddit.com</td>\n",
       "      <td>3</td>\n",
       "      <td>2020-04-07 01:45:54</td>\n",
       "    </tr>\n",
       "    <tr>\n",
       "      <td>2419</td>\n",
       "      <td>fcsymx</td>\n",
       "      <td>Sports</td>\n",
       "      <td>When you cross 30 it affects your eyesight: Ka...</td>\n",
       "      <td></td>\n",
       "      <td>I can imagine googly-eyed Kohli.</td>\n",
       "      <td>23</td>\n",
       "      <td>Ku_hu</td>\n",
       "      <td>https://www.business-standard.com/article/spor...</td>\n",
       "      <td>business-standard.com</td>\n",
       "      <td>1</td>\n",
       "      <td>2020-03-04 00:31:23</td>\n",
       "    </tr>\n",
       "    <tr>\n",
       "      <td>2420</td>\n",
       "      <td>dnrkxp</td>\n",
       "      <td>Sports</td>\n",
       "      <td>Copy India's ambition to be the best: Ian Chap...</td>\n",
       "      <td></td>\n",
       "      <td>Credit should go to kohli for giving utmost ...</td>\n",
       "      <td>22</td>\n",
       "      <td>Shellynoire</td>\n",
       "      <td>https://www.indiatvnews.com/sports/cricket-cop...</td>\n",
       "      <td>indiatvnews.com</td>\n",
       "      <td>5</td>\n",
       "      <td>2019-10-28 00:00:24</td>\n",
       "    </tr>\n",
       "    <tr>\n",
       "      <td>2421</td>\n",
       "      <td>enm17q</td>\n",
       "      <td>Sports</td>\n",
       "      <td>India finish 2019 as number one shooting natio...</td>\n",
       "      <td></td>\n",
       "      <td>&gt; While **India leads the standings with 30 ...</td>\n",
       "      <td>28</td>\n",
       "      <td>Shellynoire</td>\n",
       "      <td>https://www.thehindu.com/sport/other-sports/in...</td>\n",
       "      <td>thehindu.com</td>\n",
       "      <td>17</td>\n",
       "      <td>2020-01-13 00:06:36</td>\n",
       "    </tr>\n",
       "    <tr>\n",
       "      <td>2422</td>\n",
       "      <td>e3umqx</td>\n",
       "      <td>Sports</td>\n",
       "      <td>Leander Paes betters Davis Cup record, India q...</td>\n",
       "      <td></td>\n",
       "      <td>Leander's a beast. Respect to this great man...</td>\n",
       "      <td>29</td>\n",
       "      <td>xuxebiko</td>\n",
       "      <td>https://www.thehindu.com/sport/tennis/leander-...</td>\n",
       "      <td>thehindu.com</td>\n",
       "      <td>6</td>\n",
       "      <td>2019-12-01 00:24:26</td>\n",
       "    </tr>\n",
       "  </tbody>\n",
       "</table>\n",
       "</div>"
      ],
      "text/plain": [
       "          id        flair                                              title  \\\n",
       "2418  fvxp4n  Photography  Lone House at Loktak Lake, Manipur [OC] [6000x...   \n",
       "2419  fcsymx       Sports  When you cross 30 it affects your eyesight: Ka...   \n",
       "2420  dnrkxp       Sports  Copy India's ambition to be the best: Ian Chap...   \n",
       "2421  enm17q       Sports  India finish 2019 as number one shooting natio...   \n",
       "2422  e3umqx       Sports  Leander Paes betters Davis Cup record, India q...   \n",
       "\n",
       "     body                                           comments  score  \\\n",
       "2418         Location - Loktak Lake, Manipur\\n\\nDevice us...     18   \n",
       "2419                        I can imagine googly-eyed Kohli.     23   \n",
       "2420         Credit should go to kohli for giving utmost ...     22   \n",
       "2421         > While **India leads the standings with 30 ...     28   \n",
       "2422         Leander's a beast. Respect to this great man...     29   \n",
       "\n",
       "              author                                                url  \\\n",
       "2418  kingof-potatos                https://i.redd.it/trpvocirv6r41.jpg   \n",
       "2419           Ku_hu  https://www.business-standard.com/article/spor...   \n",
       "2420     Shellynoire  https://www.indiatvnews.com/sports/cricket-cop...   \n",
       "2421     Shellynoire  https://www.thehindu.com/sport/other-sports/in...   \n",
       "2422        xuxebiko  https://www.thehindu.com/sport/tennis/leander-...   \n",
       "\n",
       "                     domain  comms_num           timestamp  \n",
       "2418             reddit.com          3 2020-04-07 01:45:54  \n",
       "2419  business-standard.com          1 2020-03-04 00:31:23  \n",
       "2420        indiatvnews.com          5 2019-10-28 00:00:24  \n",
       "2421           thehindu.com         17 2020-01-13 00:06:36  \n",
       "2422           thehindu.com          6 2019-12-01 00:24:26  "
      ]
     },
     "execution_count": 8,
     "metadata": {},
     "output_type": "execute_result"
    }
   ],
   "source": [
    "data = pd.DataFrame(topics_dict)\n",
    "\n",
    "# Converting timestamp to datetime format\n",
    "_timestamp = data[\"created\"].apply(get_date)\n",
    "data = data.assign(timestamp = _timestamp)\n",
    "del data['created']\n",
    "\n",
    "# Shuffling the rows\n",
    "data = data.sample(frac=1).reset_index(drop=True)\n",
    "\n",
    "# Saving the data in csv file\n",
    "data.to_csv('reddit-india-data.csv', index=False)\n",
    "data.tail()"
   ]
  }
 ],
 "metadata": {
  "accelerator": "GPU",
  "colab": {
   "collapsed_sections": [],
   "name": "Untitled0.ipynb",
   "provenance": []
  },
  "kernelspec": {
   "display_name": "Python 3",
   "language": "python",
   "name": "python3"
  },
  "language_info": {
   "codemirror_mode": {
    "name": "ipython",
    "version": 3
   },
   "file_extension": ".py",
   "mimetype": "text/x-python",
   "name": "python",
   "nbconvert_exporter": "python",
   "pygments_lexer": "ipython3",
   "version": "3.7.4"
  }
 },
 "nbformat": 4,
 "nbformat_minor": 1
}
