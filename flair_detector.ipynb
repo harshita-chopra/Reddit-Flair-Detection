{
 "cells": [
  {
   "cell_type": "markdown",
   "metadata": {},
   "source": [
    "# Building the Reddit Flair Detector"
   ]
  },
  {
   "cell_type": "code",
   "execution_count": 1,
   "metadata": {},
   "outputs": [],
   "source": [
    "# Importing necessary libraries\n",
    "\n",
    "import pandas as pd\n",
    "import numpy as np\n",
    "from tqdm import tqdm\n",
    "import matplotlib.pyplot as plt\n",
    "import cleaning\n",
    "from nltk import word_tokenize\n",
    "from nltk.util import ngrams  \n",
    "from heapq import nlargest\n",
    "import collections\n",
    "from sklearn.decomposition import TruncatedSVD\n",
    "from sklearn.model_selection import train_test_split\n",
    "from sklearn.preprocessing import LabelEncoder\n",
    "from sklearn.feature_extraction.text import TfidfVectorizer\n",
    "from sklearn.linear_model import LogisticRegression\n",
    "from sklearn.svm import SVC\n",
    "from sklearn import naive_bayes\n",
    "from sklearn.metrics import accuracy_score, classification_report, confusion_matrix\n",
    "from sklearn.ensemble import RandomForestClassifier\n",
    "from mlxtend.plotting import plot_confusion_matrix\n",
    "import pickle "
   ]
  },
  {
   "cell_type": "markdown",
   "metadata": {},
   "source": [
    "### Reading the extracted data\n",
    "The extracted data was saved in \"reddit-india-data.csv\" file. Some submissions had NaN values in the body text maybe because they were simply images or URLs to other sources. These NaN values are replaced by empty strings."
   ]
  },
  {
   "cell_type": "code",
   "execution_count": 2,
   "metadata": {},
   "outputs": [
    {
     "data": {
      "text/html": [
       "<div>\n",
       "<style scoped>\n",
       "    .dataframe tbody tr th:only-of-type {\n",
       "        vertical-align: middle;\n",
       "    }\n",
       "\n",
       "    .dataframe tbody tr th {\n",
       "        vertical-align: top;\n",
       "    }\n",
       "\n",
       "    .dataframe thead th {\n",
       "        text-align: right;\n",
       "    }\n",
       "</style>\n",
       "<table border=\"1\" class=\"dataframe\">\n",
       "  <thead>\n",
       "    <tr style=\"text-align: right;\">\n",
       "      <th></th>\n",
       "      <th>id</th>\n",
       "      <th>flair</th>\n",
       "      <th>title</th>\n",
       "      <th>body</th>\n",
       "      <th>comments</th>\n",
       "      <th>score</th>\n",
       "      <th>author</th>\n",
       "      <th>url</th>\n",
       "      <th>domain</th>\n",
       "      <th>comms_num</th>\n",
       "      <th>timestamp</th>\n",
       "    </tr>\n",
       "  </thead>\n",
       "  <tbody>\n",
       "    <tr>\n",
       "      <td>2418</td>\n",
       "      <td>fvxp4n</td>\n",
       "      <td>Photography</td>\n",
       "      <td>Lone House at Loktak Lake, Manipur [OC] [6000x...</td>\n",
       "      <td></td>\n",
       "      <td>Location - Loktak Lake, Manipur\\n\\nDevice us...</td>\n",
       "      <td>18</td>\n",
       "      <td>kingof-potatos</td>\n",
       "      <td>https://i.redd.it/trpvocirv6r41.jpg</td>\n",
       "      <td>reddit.com</td>\n",
       "      <td>3</td>\n",
       "      <td>2020-04-07 01:45:54</td>\n",
       "    </tr>\n",
       "    <tr>\n",
       "      <td>2419</td>\n",
       "      <td>fcsymx</td>\n",
       "      <td>Sports</td>\n",
       "      <td>When you cross 30 it affects your eyesight: Ka...</td>\n",
       "      <td></td>\n",
       "      <td>I can imagine googly-eyed Kohli.</td>\n",
       "      <td>23</td>\n",
       "      <td>Ku_hu</td>\n",
       "      <td>https://www.business-standard.com/article/spor...</td>\n",
       "      <td>business-standard.com</td>\n",
       "      <td>1</td>\n",
       "      <td>2020-03-04 00:31:23</td>\n",
       "    </tr>\n",
       "    <tr>\n",
       "      <td>2420</td>\n",
       "      <td>dnrkxp</td>\n",
       "      <td>Sports</td>\n",
       "      <td>Copy India's ambition to be the best: Ian Chap...</td>\n",
       "      <td></td>\n",
       "      <td>Credit should go to kohli for giving utmost ...</td>\n",
       "      <td>22</td>\n",
       "      <td>Shellynoire</td>\n",
       "      <td>https://www.indiatvnews.com/sports/cricket-cop...</td>\n",
       "      <td>indiatvnews.com</td>\n",
       "      <td>5</td>\n",
       "      <td>2019-10-28 00:00:24</td>\n",
       "    </tr>\n",
       "    <tr>\n",
       "      <td>2421</td>\n",
       "      <td>enm17q</td>\n",
       "      <td>Sports</td>\n",
       "      <td>India finish 2019 as number one shooting natio...</td>\n",
       "      <td></td>\n",
       "      <td>&gt; While **India leads the standings with 30 ...</td>\n",
       "      <td>28</td>\n",
       "      <td>Shellynoire</td>\n",
       "      <td>https://www.thehindu.com/sport/other-sports/in...</td>\n",
       "      <td>thehindu.com</td>\n",
       "      <td>17</td>\n",
       "      <td>2020-01-13 00:06:36</td>\n",
       "    </tr>\n",
       "    <tr>\n",
       "      <td>2422</td>\n",
       "      <td>e3umqx</td>\n",
       "      <td>Sports</td>\n",
       "      <td>Leander Paes betters Davis Cup record, India q...</td>\n",
       "      <td></td>\n",
       "      <td>Leander's a beast. Respect to this great man...</td>\n",
       "      <td>29</td>\n",
       "      <td>xuxebiko</td>\n",
       "      <td>https://www.thehindu.com/sport/tennis/leander-...</td>\n",
       "      <td>thehindu.com</td>\n",
       "      <td>6</td>\n",
       "      <td>2019-12-01 00:24:26</td>\n",
       "    </tr>\n",
       "  </tbody>\n",
       "</table>\n",
       "</div>"
      ],
      "text/plain": [
       "          id        flair                                              title  \\\n",
       "2418  fvxp4n  Photography  Lone House at Loktak Lake, Manipur [OC] [6000x...   \n",
       "2419  fcsymx       Sports  When you cross 30 it affects your eyesight: Ka...   \n",
       "2420  dnrkxp       Sports  Copy India's ambition to be the best: Ian Chap...   \n",
       "2421  enm17q       Sports  India finish 2019 as number one shooting natio...   \n",
       "2422  e3umqx       Sports  Leander Paes betters Davis Cup record, India q...   \n",
       "\n",
       "     body                                           comments  score  \\\n",
       "2418         Location - Loktak Lake, Manipur\\n\\nDevice us...     18   \n",
       "2419                        I can imagine googly-eyed Kohli.     23   \n",
       "2420         Credit should go to kohli for giving utmost ...     22   \n",
       "2421         > While **India leads the standings with 30 ...     28   \n",
       "2422         Leander's a beast. Respect to this great man...     29   \n",
       "\n",
       "              author                                                url  \\\n",
       "2418  kingof-potatos                https://i.redd.it/trpvocirv6r41.jpg   \n",
       "2419           Ku_hu  https://www.business-standard.com/article/spor...   \n",
       "2420     Shellynoire  https://www.indiatvnews.com/sports/cricket-cop...   \n",
       "2421     Shellynoire  https://www.thehindu.com/sport/other-sports/in...   \n",
       "2422        xuxebiko  https://www.thehindu.com/sport/tennis/leander-...   \n",
       "\n",
       "                     domain  comms_num           timestamp  \n",
       "2418             reddit.com          3 2020-04-07 01:45:54  \n",
       "2419  business-standard.com          1 2020-03-04 00:31:23  \n",
       "2420        indiatvnews.com          5 2019-10-28 00:00:24  \n",
       "2421           thehindu.com         17 2020-01-13 00:06:36  \n",
       "2422           thehindu.com          6 2019-12-01 00:24:26  "
      ]
     },
     "execution_count": 2,
     "metadata": {},
     "output_type": "execute_result"
    }
   ],
   "source": [
    "data = pd.read_csv('reddit-india-data.csv', parse_dates=['timestamp'])\n",
    "data.body.fillna('', inplace=True)\n",
    "data.tail()"
   ]
  },
  {
   "cell_type": "markdown",
   "metadata": {},
   "source": [
    "### Checking the distribution of flairs\n",
    "From the graph we can note that there are around 250 posts from each of the ten flair. This makes our data **evenly distributed** and hence, appropriate for training machine learning models."
   ]
  },
  {
   "cell_type": "code",
   "execution_count": 3,
   "metadata": {},
   "outputs": [
    {
     "name": "stderr",
     "output_type": "stream",
     "text": [
      "C:\\Users\\welcome\\Anaconda3\\lib\\site-packages\\ipykernel_launcher.py:6: SettingWithCopyWarning: \n",
      "A value is trying to be set on a copy of a slice from a DataFrame\n",
      "\n",
      "See the caveats in the documentation: http://pandas.pydata.org/pandas-docs/stable/user_guide/indexing.html#returning-a-view-versus-a-copy\n",
      "  \n"
     ]
    },
    {
     "data": {
      "image/png": "[encoded data removed]",
      "text/plain": [
       "<Figure size 720x360 with 1 Axes>"
      ]
     },
     "metadata": {
      "needs_background": "light"
     },
     "output_type": "display_data"
    }
   ],
   "source": [
    "flairs = ['AskIndia', 'Business/Finance', 'Food', 'Non-Political', 'Photography', 'Policy/Economy', 'Politics', 'Scheduled',\n",
    "          'Science/Technology', 'Sports']\n",
    "\n",
    "# Merging megathreads into respective flairs\n",
    "for flr in flairs:\n",
    "    data.flair[data.flair == flr +' [Megathread]'] = flr\n",
    "    \n",
    "plt.figure(figsize=(10,5))\n",
    "data.flair.value_counts().plot(kind='bar', fontsize=12);"
   ]
  },
  {
   "cell_type": "markdown",
   "metadata": {},
   "source": [
    "### Pre-processing the text-data\n",
    "A separate python script named \"cleaning.py\" is created which contains all the required function to clean the text. It turns the text into lower case, removes URLs, punctuations, digits, stopwords and lemmatizes the words. Since the r/India submissions have a lot of ***hinglish*** words, a special hinglish stopwords file is used to remove them as well."
   ]
  },
  {
   "cell_type": "code",
   "execution_count": 4,
   "metadata": {},
   "outputs": [
    {
     "name": "stdout",
     "output_type": "stream",
     "text": [
      "Cleaning text of title ...\n",
      "DONE! \n",
      "\n",
      "Cleaning text of body ...\n",
      "DONE! \n",
      "\n",
      "Cleaning text of comments ...\n",
      "DONE! \n",
      "\n"
     ]
    }
   ],
   "source": [
    "cleaning.clean_text(data, 'title')\n",
    "cleaning.clean_text(data, 'body')\n",
    "cleaning.clean_text(data, 'comments')"
   ]
  },
  {
   "cell_type": "code",
   "execution_count": 5,
   "metadata": {},
   "outputs": [],
   "source": [
    "# Merging title and body text into a new column: content\n",
    "data['content'] = data.title +' '+ data.body +' '+ data.comments +' '+ data.domain\n",
    "\n",
    "X = data.content\n",
    "y = data.flair\n",
    "\n",
    "# Label encoding the classes (alphabetically by default)\n",
    "encoder = LabelEncoder()\n",
    "y = encoder.fit_transform(y)"
   ]
  },
  {
   "cell_type": "markdown",
   "metadata": {},
   "source": [
    "## ***Feature Extraction and training model***"
   ]
  },
  {
   "cell_type": "markdown",
   "metadata": {},
   "source": [
    "Displaying topmost related unigrmas and bigrams from each flair's submiisions..."
   ]
  },
  {
   "cell_type": "code",
   "execution_count": 6,
   "metadata": {},
   "outputs": [
    {
     "name": "stdout",
     "output_type": "stream",
     "text": [
      "> AskIndia \n",
      "Unigrams: ['time', 'make', 'work', 'india', 'life', 'year', 'money', 'parent', 'day', 'indian'] \n",
      "Bigrams: ['can not', 'gon na', 'work home', 'social medium', 'pay tax', 'year ago', 'indian parent', 'make money', 'mental health', 'earn money'] \n",
      "\n",
      "> Business/Finance \n",
      "Unigrams: ['bank', 'money', 'india', 'pay', 'time', 'company', 'make', 'year', 'month', 'work'] \n",
      "Bigrams: ['real estate', 'credit card', 'mutual fund', 'uber eats', 'can not', 'gon na', 'bank account', 'stock market', 'net worth', 'make money'] \n",
      "\n",
      "> Food \n",
      "Unigrams: ['food', 'make', 'eat', 'indian', 'india', 'chicken', 'time', 'add', 'order', 'restaurant'] \n",
      "Bigrams: ['indian food', 'burger king', 'peanut butter', 'butter chicken', 'can not', 'fast food', 'condom ad', 'gon na', 'ice cream', 'white rice'] \n",
      "\n",
      "> Non-Political \n",
      "Unigrams: ['india', 'indian', 'make', 'time', 'work', 'guy', 'day', 'year', 'family', 'country'] \n",
      "Bigrams: ['happy birthday', 'gon na', 'can not', 'news channel', 'social medium', 'sorry happen', 'birthday happy', 'year ago', 'indian men', 'make sense'] \n",
      "\n",
      "> Photography \n",
      "Unigrams: ['reddit.com', 'beautiful', 'shot', 'picture', 'india', 'place', 'great', 'photo', 'nice', 'op'] \n",
      "Bigrams: ['reddit.com oc', 'public transport', 'nikon d', 'oc x', 'great shot', 'equipment nikon', 'nikon da', 'beautiful picture', 'poco f', 'x shot'] \n",
      "\n",
      "> Policy/Economy \n",
      "Unigrams: ['india', 'government', 'bank', 'make', 'time', 'money', 'economy', 'country', 'indian', 'work'] \n",
      "Bigrams: ['can not', 'supreme court', 'contact trace', 'gon na', 'corona virus', 'delhi police', 'jammu kashmir', 'work paper', 'middle class', 'r crore'] \n",
      "\n",
      "> Politics \n",
      "Unigrams: ['religion', 'india', 'make', 'country', 'time', 'modi', 'government', 'indian', 'bjp', 'day'] \n",
      "Bigrams: ['gon na', 'can not', 'fake news', 'john oliver', 'amit shah', 'prime minister', 'social medium', 'news channel', 'hindu muslim', 'year ago'] \n",
      "\n",
      "> Scheduled \n",
      "Unigrams: ['time', 'day', 'make', 'guy', 'life', 'feel', 'है', 'year', 'love', 'today'] \n",
      "Bigrams: ['public service', 'paani pi', 'service announcement', 'gon na', 'bring rhydrohomies', 'announcement paani', 'pi bring', 'discussion thread', 'bot bot', 'bot problem'] \n",
      "\n",
      "> Science/Technology \n",
      "Unigrams: ['india', 'work', 'time', 'make', 'check', 'year', 'indian', 'hotstar', 'country', 'find'] \n",
      "Bigrams: ['hotstar check', 'disney hotstar', 'can not', 'check star', 'star war', 'fake news', 'wan na', 'space exploration', 'south pole', 'cow urine'] \n",
      "\n",
      "> Sports \n",
      "Unigrams: ['india', 'indian', 'team', 'play', 'sport', 'world', 'cricket', 'make', 'football', 'time'] \n",
      "Bigrams: ['world cup', 'indian football', 'gon na', 'usain bolt', 'team india', 'can not', 'indian team', 'indian woman', 'score goal', 'jay shah'] \n",
      "\n"
     ]
    }
   ],
   "source": [
    "# Finding top ngrams in each flair\n",
    "top_num = 10\n",
    "\n",
    "for flair in flairs:\n",
    "    all_text = ' '.join(str(word) for word in data.content[data.flair == flair].values) \n",
    "    tokens = word_tokenize(all_text)\n",
    "    \n",
    "    unigrams = ngrams(tokens, 1)\n",
    "    unigrams = collections.Counter(unigrams).most_common(top_num)\n",
    "    unigrams = [item[0][0] for item in unigrams]\n",
    "\n",
    "    bigrams = ngrams(tokens, 2)\n",
    "    bigrams = collections.Counter(bigrams).most_common(top_num)\n",
    "    bigrams = [item[0][0]+' '+item[0][1] for item in bigrams]\n",
    "\n",
    "    print(f\"> {flair} \\nUnigrams: {unigrams} \\nBigrams: {bigrams} \\n\")"
   ]
  },
  {
   "cell_type": "markdown",
   "metadata": {},
   "source": [
    "## Part I:  Generating max 5k features with n-grams using TF-IDF Vectorizer"
   ]
  },
  {
   "cell_type": "code",
   "execution_count": 7,
   "metadata": {
    "scrolled": false
   },
   "outputs": [
    {
     "name": "stdout",
     "output_type": "stream",
     "text": [
      "Distribution of classes in test set: \n",
      " [58 44 41 43 47 49 56 50 54 43]\n",
      "\n",
      "Training features shape:  (1938, 5000)\n",
      "Test features shape:      (485, 5000)\n"
     ]
    }
   ],
   "source": [
    "# Splitting data into train:test by 80:20\n",
    "X_train, X_test, y_train, y_test = train_test_split(X, y, test_size=0.2, random_state = 42)\n",
    "\n",
    "print(\"Distribution of classes in test set: \\n\", np.bincount(y_test))\n",
    "\n",
    "# Creating the vectorizer\n",
    "tfidf = TfidfVectorizer(max_features = 5000, ngram_range=(1,3), min_df=5, max_df=0.9, stop_words=cleaning.STOPWORDS )\n",
    "tfidf = tfidf.fit(X_train)\n",
    "\n",
    "# Saving the vectorizer as pickle file\n",
    "with open(\"vectorizer.pkl\", 'wb') as file:  \n",
    "    pickle.dump(tfidf, file)\n",
    "\n",
    "X_train = tfidf.transform(X_train).toarray()\n",
    "print('\\nTraining features shape: ',X_train.shape)\n",
    "\n",
    "X_test = tfidf.transform(X_test).toarray()\n",
    "print('Test features shape:     ',X_test.shape)"
   ]
  },
  {
   "cell_type": "code",
   "execution_count": 8,
   "metadata": {},
   "outputs": [],
   "source": [
    "# Function to train the multi-class classifier\n",
    "\n",
    "def train_classifier(model, train_data, train_labels, test_data, test_labels):\n",
    "    model.fit(train_data, train_labels)\n",
    "    prediction = model.predict(test_data)\n",
    "    acc = round(accuracy_score(prediction, test_labels)*100, 0)\n",
    "    print(f'ACCURACY = {acc} %')\n",
    "    return acc, model\n",
    "\n",
    "# Creating dictionary to record accuracy of each model\n",
    "accuracies = {}"
   ]
  },
  {
   "cell_type": "markdown",
   "metadata": {},
   "source": [
    "### ***1.1 Multinomial Naive Bayes Classifier***\n",
    "Naive Bayes Classifier Algorithm is a family of probabilistic algorithms based on applying Bayes’ theorem with the “naive” assumption of conditional independence between every pair of a feature."
   ]
  },
  {
   "cell_type": "code",
   "execution_count": 9,
   "metadata": {},
   "outputs": [
    {
     "name": "stdout",
     "output_type": "stream",
     "text": [
      "ACCURACY = 66.0 %\n"
     ]
    }
   ],
   "source": [
    "classifier = naive_bayes.MultinomialNB()\n",
    "accuracies['Naive Bayes'], nb = train_classifier(classifier, X_train, y_train, X_test, y_test)\n"
   ]
  },
  {
   "cell_type": "markdown",
   "metadata": {},
   "source": [
    "### ***1.2 Logistic Regression Classifier***\n",
    "When there are more than two classes to predict, multi_class option is set to 'multinomial'. Solver is the algorithm to use in the optimization problem. Stochastic Average Gradient (sag) is used and it handles L2 regularization by default."
   ]
  },
  {
   "cell_type": "code",
   "execution_count": 10,
   "metadata": {},
   "outputs": [
    {
     "name": "stdout",
     "output_type": "stream",
     "text": [
      "ACCURACY = 68.0 %\n"
     ]
    }
   ],
   "source": [
    "classifier = LogisticRegression(multi_class='multinomial', solver='sag')\n",
    "accuracies['Logistic Regression'], logreg = train_classifier(classifier, X_train, y_train, X_test, y_test)\n"
   ]
  },
  {
   "cell_type": "markdown",
   "metadata": {},
   "source": [
    "### ***1.3 Random Forest Classifier***\n",
    "The random forest is a model made up of many decision trees to avoid the problem of overfitting. When training, each tree in a random forest learns from a random sample of the data points. The samples are drawn with replacement, known as ***bootstrapping***, which means that some samples will be used multiple times in a single tree. At test time, predictions are made by averaging the predictions of each decision tree. This procedure of training each individual learner on different bootstrapped subsets of the data and then averaging the predictions is known as ***bagging***. \n",
    "\n",
    "n_estimators refers to number of trees, the more the better. min_samples_split refers to the minimum number of samples required to split an internal node."
   ]
  },
  {
   "cell_type": "code",
   "execution_count": 11,
   "metadata": {},
   "outputs": [
    {
     "name": "stdout",
     "output_type": "stream",
     "text": [
      "ACCURACY = 67.0 %\n"
     ]
    }
   ],
   "source": [
    "classifier = RandomForestClassifier(n_estimators = 500, min_samples_split = 10, random_state = 42)\n",
    "accuracies['Random Forest'], ranfor = train_classifier(classifier, X_train, y_train, X_test, y_test)\n",
    "    "
   ]
  },
  {
   "cell_type": "markdown",
   "metadata": {},
   "source": [
    "### ***1.4 Support Vector Machine***\n",
    "SVM is an efficient classification method when the feature vector is high dimensional. C-Support Vector Classification considers regularisation parameters which help implement a penalty on the misclassifications that are performed while separating the classes; thus helps in improving the accuracy of the output. Smaller values of C lead to large margins."
   ]
  },
  {
   "cell_type": "code",
   "execution_count": 12,
   "metadata": {},
   "outputs": [
    {
     "name": "stdout",
     "output_type": "stream",
     "text": [
      "ACCURACY = 68.0 %\n"
     ]
    }
   ],
   "source": [
    "classifier = SVC(C = 2.5, kernel = 'linear', gamma='auto', random_state=42)\n",
    "accuracies['Linear SVM'], svm = train_classifier(classifier, X_train, y_train, X_test, y_test)\n"
   ]
  },
  {
   "cell_type": "code",
   "execution_count": 13,
   "metadata": {},
   "outputs": [
    {
     "data": {
      "text/html": [
       "<style  type=\"text/css\" >\n",
       "</style><table id=\"T_5172a49a_86e4_11ea_8771_c0b6f977d7fa\" ><thead>    <tr>        <th class=\"col_heading level0 col0\" >Classifier</th>        <th class=\"col_heading level0 col1\" >Accuracy %</th>    </tr></thead><tbody>\n",
       "                <tr>\n",
       "                                <td id=\"T_5172a49a_86e4_11ea_8771_c0b6f977d7farow0_col0\" class=\"data row0 col0\" >Linear SVM</td>\n",
       "                        <td id=\"T_5172a49a_86e4_11ea_8771_c0b6f977d7farow0_col1\" class=\"data row0 col1\" >68</td>\n",
       "            </tr>\n",
       "            <tr>\n",
       "                                <td id=\"T_5172a49a_86e4_11ea_8771_c0b6f977d7farow1_col0\" class=\"data row1 col0\" >Logistic Regression</td>\n",
       "                        <td id=\"T_5172a49a_86e4_11ea_8771_c0b6f977d7farow1_col1\" class=\"data row1 col1\" >68</td>\n",
       "            </tr>\n",
       "            <tr>\n",
       "                                <td id=\"T_5172a49a_86e4_11ea_8771_c0b6f977d7farow2_col0\" class=\"data row2 col0\" >Random Forest</td>\n",
       "                        <td id=\"T_5172a49a_86e4_11ea_8771_c0b6f977d7farow2_col1\" class=\"data row2 col1\" >67</td>\n",
       "            </tr>\n",
       "            <tr>\n",
       "                                <td id=\"T_5172a49a_86e4_11ea_8771_c0b6f977d7farow3_col0\" class=\"data row3 col0\" >Naive Bayes</td>\n",
       "                        <td id=\"T_5172a49a_86e4_11ea_8771_c0b6f977d7farow3_col1\" class=\"data row3 col1\" >66</td>\n",
       "            </tr>\n",
       "    </tbody></table>"
      ],
      "text/plain": [
       "<pandas.io.formats.style.Styler at 0x2380256fd88>"
      ]
     },
     "execution_count": 13,
     "metadata": {},
     "output_type": "execute_result"
    }
   ],
   "source": [
    "# COMPARING ACCURACIES \n",
    "\n",
    "models_df = pd.DataFrame(accuracies.items(), columns=['Classifier', 'Accuracy %'])\n",
    "models_df.sort_values(by=['Accuracy %'], ascending=False).style.hide_index()"
   ]
  },
  {
   "cell_type": "markdown",
   "metadata": {},
   "source": [
    "## Part II:  Latent Semantic Analysis\n",
    "A ***Topic Model*** can be defined as an unsupervised technique to discover topics across various text documents. These topics are abstract in nature, that is, words which are related to each other form a topic. Similarly, there can be multiple topics in an individual document. \n",
    "\n",
    "Latent Semantic Analysis (LSA) comes into play as it attempts to capture the hidden concepts in documents, also known as topics. The tf-idf matrix contains 5000 features. To reduce the dimensionality and find latent topics, I will decompose this matrix using Truncated ***SVD***. Here is a function which will return the optimal number of components on the basis of explained variance and the goal variance."
   ]
  },
  {
   "cell_type": "code",
   "execution_count": 14,
   "metadata": {},
   "outputs": [
    {
     "data": {
      "text/plain": [
       "1138"
      ]
     },
     "execution_count": 14,
     "metadata": {},
     "output_type": "execute_result"
    }
   ],
   "source": [
    "tsvd = TruncatedSVD(n_components = X_train.shape[1]-1, n_iter=10, random_state = 42)\n",
    "tsvd = tsvd.fit(X_train)\n",
    "tsvd_var_ratios  = tsvd.explained_variance_ratio_\n",
    "\n",
    "def select_n_components(var_ratio, goal_var: float) -> int:\n",
    "    \n",
    "    # Initialize variance explained and num_components\n",
    "    total_variance = 0.0\n",
    "    n_components = 0\n",
    "    \n",
    "    # For the explained variance of each feature:\n",
    "    for explained_variance in var_ratio:\n",
    "        \n",
    "        # Add the explained variance to the total and increment components by 1\n",
    "        total_variance += explained_variance\n",
    "        n_components += 1\n",
    "        \n",
    "        # If goal level of explained variance reached\n",
    "        if total_variance >= goal_var:\n",
    "            break \n",
    " \n",
    "    return n_components\n",
    "\n",
    "select_n_components(tsvd_var_ratios, 0.9)"
   ]
  },
  {
   "cell_type": "code",
   "execution_count": 15,
   "metadata": {},
   "outputs": [
    {
     "name": "stdout",
     "output_type": "stream",
     "text": [
      "Training features shape:  (1938, 1138)\n",
      "Test features shape:      (485, 1138)\n"
     ]
    }
   ],
   "source": [
    "tsvd = TruncatedSVD(n_components = 1138, n_iter=10, random_state=42)\n",
    "tsvd = tsvd.fit(X_train)\n",
    "\n",
    "# Saving the vectorizer as pickle file\n",
    "with open(\"LSA_topics.pkl\", 'wb') as file:  \n",
    "    pickle.dump(tsvd, file)\n",
    "    \n",
    "X_train = tsvd.transform(X_train)\n",
    "X_test = tsvd.transform(X_test)\n",
    "\n",
    "print('Training features shape: ',X_train.shape)\n",
    "print('Test features shape:     ',X_test.shape)"
   ]
  },
  {
   "cell_type": "markdown",
   "metadata": {},
   "source": [
    "### ***2.1 Multinomial Naive Bayes Classifier***"
   ]
  },
  {
   "cell_type": "code",
   "execution_count": 16,
   "metadata": {},
   "outputs": [],
   "source": [
    "# Multinomial Naive Bayes Classifier does not support negative values. Input X should be non-negative.\n",
    "# Hence this classifier is skipped because Truncated SVD transforms X into some negative values as well."
   ]
  },
  {
   "cell_type": "markdown",
   "metadata": {},
   "source": [
    "### ***2.2 Logistic Regression Classifier***"
   ]
  },
  {
   "cell_type": "code",
   "execution_count": 17,
   "metadata": {},
   "outputs": [
    {
     "name": "stdout",
     "output_type": "stream",
     "text": [
      "ACCURACY = 69.0 %\n"
     ]
    }
   ],
   "source": [
    "classifier = LogisticRegression(multi_class='multinomial', solver='sag')\n",
    "accuracies['Logistic Regression'], logreg = train_classifier(classifier, X_train, y_train, X_test, y_test)\n"
   ]
  },
  {
   "cell_type": "markdown",
   "metadata": {},
   "source": [
    "### ***2.3 Random Forest Classifier***"
   ]
  },
  {
   "cell_type": "code",
   "execution_count": 18,
   "metadata": {},
   "outputs": [
    {
     "name": "stdout",
     "output_type": "stream",
     "text": [
      "ACCURACY = 68.0 %\n"
     ]
    }
   ],
   "source": [
    "classifier = RandomForestClassifier(n_estimators = 500, min_samples_split = 10, random_state = 42)\n",
    "accuracies['Random Forest'], ranfor = train_classifier(classifier, X_train, y_train, X_test, y_test)\n"
   ]
  },
  {
   "cell_type": "markdown",
   "metadata": {},
   "source": [
    "### ***2.4 Support Vector Machine***"
   ]
  },
  {
   "cell_type": "code",
   "execution_count": 19,
   "metadata": {},
   "outputs": [
    {
     "name": "stdout",
     "output_type": "stream",
     "text": [
      "ACCURACY = 70.0 %\n"
     ]
    }
   ],
   "source": [
    "classifier = SVC(C = 2.5, kernel = 'linear', gamma='scale', random_state=42)\n",
    "accuracies['Linear SVM'], svm = train_classifier(classifier, X_train, y_train, X_test, y_test)\n"
   ]
  },
  {
   "cell_type": "code",
   "execution_count": 20,
   "metadata": {},
   "outputs": [
    {
     "data": {
      "text/html": [
       "<style  type=\"text/css\" >\n",
       "</style><table id=\"T_4839620a_86e2_11ea_8308_c0b6f977d7fa\" ><thead>    <tr>        <th class=\"col_heading level0 col0\" >Classifier</th>        <th class=\"col_heading level0 col1\" >Accuracy %</th>    </tr></thead><tbody>\n",
       "                <tr>\n",
       "                                <td id=\"T_4839620a_86e2_11ea_8308_c0b6f977d7farow0_col0\" class=\"data row0 col0\" >Linear SVM</td>\n",
       "                        <td id=\"T_4839620a_86e2_11ea_8308_c0b6f977d7farow0_col1\" class=\"data row0 col1\" >70</td>\n",
       "            </tr>\n",
       "            <tr>\n",
       "                                <td id=\"T_4839620a_86e2_11ea_8308_c0b6f977d7farow1_col0\" class=\"data row1 col0\" >Logistic Regression</td>\n",
       "                        <td id=\"T_4839620a_86e2_11ea_8308_c0b6f977d7farow1_col1\" class=\"data row1 col1\" >69</td>\n",
       "            </tr>\n",
       "            <tr>\n",
       "                                <td id=\"T_4839620a_86e2_11ea_8308_c0b6f977d7farow2_col0\" class=\"data row2 col0\" >Random Forest</td>\n",
       "                        <td id=\"T_4839620a_86e2_11ea_8308_c0b6f977d7farow2_col1\" class=\"data row2 col1\" >68</td>\n",
       "            </tr>\n",
       "    </tbody></table>"
      ],
      "text/plain": [
       "<pandas.io.formats.style.Styler at 0x23801e350c8>"
      ]
     },
     "execution_count": 20,
     "metadata": {},
     "output_type": "execute_result"
    }
   ],
   "source": [
    "# COMPARING ACCURACIES AFTER LSA\n",
    "\n",
    "models_df = pd.DataFrame(accuracies.items(), columns=['Classifier', 'Accuracy %'])\n",
    "models_df.drop(models_df[models_df.Classifier == 'Naive Bayes'].index, inplace=True)\n",
    "models_df.sort_values(by=['Accuracy %'], ascending=False).style.hide_index()"
   ]
  },
  {
   "cell_type": "markdown",
   "metadata": {},
   "source": [
    "## Best model so far..\n",
    "*Linear Support Vector Classifier* after performing LSA comes out with an accuracy of **70 %** which is the highest among all. Now evaluating it with various metrics using classification report and confusion matrix."
   ]
  },
  {
   "cell_type": "code",
   "execution_count": 21,
   "metadata": {},
   "outputs": [
    {
     "name": "stdout",
     "output_type": "stream",
     "text": [
      "\n",
      "SVM Classifier results: \n",
      "\n",
      "                    precision    recall  f1-score   support\n",
      "\n",
      "          AskIndia       0.67      0.59      0.62        58\n",
      "  Business/Finance       0.47      0.64      0.54        44\n",
      "              Food       0.80      0.78      0.79        41\n",
      "     Non-Political       0.38      0.40      0.39        43\n",
      "       Photography       0.84      0.89      0.87        47\n",
      "    Policy/Economy       0.57      0.57      0.57        49\n",
      "          Politics       0.72      0.70      0.71        56\n",
      "         Scheduled       1.00      0.96      0.98        50\n",
      "Science/Technology       0.69      0.65      0.67        54\n",
      "            Sports       0.95      0.84      0.89        43\n",
      "\n",
      "          accuracy                           0.70       485\n",
      "         macro avg       0.71      0.70      0.70       485\n",
      "      weighted avg       0.71      0.70      0.70       485\n",
      "\n"
     ]
    }
   ],
   "source": [
    "y_pred = svm.predict(X_test)\n",
    "print(\"\\nSVM Classifier results: \\n\")\n",
    "print(classification_report(y_test, y_pred, target_names = list(encoder.classes_)))"
   ]
  },
  {
   "cell_type": "code",
   "execution_count": 22,
   "metadata": {},
   "outputs": [
    {
     "data": {
      "image/png": "[encoded data removed]",
      "text/plain": [
       "<Figure size 720x720 with 2 Axes>"
      ]
     },
     "metadata": {
      "needs_background": "light"
     },
     "output_type": "display_data"
    }
   ],
   "source": [
    "# CREATING THE CONFUSION MATRIX\n",
    "fig, ax = plot_confusion_matrix(conf_mat = confusion_matrix(y_test, y_pred),\n",
    "                                colorbar = True,\n",
    "                                show_absolute = False,\n",
    "                                show_normed = True,\n",
    "                                figsize = (10,10))\n",
    "plt.title(\"SVM confusion matrix\", fontsize=14)\n",
    "plt.show()"
   ]
  },
  {
   "cell_type": "code",
   "execution_count": 23,
   "metadata": {},
   "outputs": [],
   "source": [
    "# Saving the best model as pickle file which would be used in website\n",
    "\n",
    "with open(\"pickle_svm_model.pkl\", 'wb') as file:  \n",
    "    pickle.dump(svm, file)"
   ]
  }
 ],
 "metadata": {
  "kernelspec": {
   "display_name": "Python 3",
   "language": "python",
   "name": "python3"
  },
  "language_info": {
   "codemirror_mode": {
    "name": "ipython",
    "version": 3
   },
   "file_extension": ".py",
   "mimetype": "text/x-python",
   "name": "python",
   "nbconvert_exporter": "python",
   "pygments_lexer": "ipython3",
   "version": "3.7.4"
  }
 },
 "nbformat": 4,
 "nbformat_minor": 2
}
